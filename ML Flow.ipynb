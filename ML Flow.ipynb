{
 "cells": [
  {
   "cell_type": "code",
   "execution_count": 1,
   "id": "9ad0e9d9",
   "metadata": {},
   "outputs": [
    {
     "data": {
      "text/plain": [
       "<Experiment: artifact_location='/Users/davidgillespie/projects/MLops_project/mlruns/1', creation_time=1720533340194, experiment_id='1', last_update_time=1720533340194, lifecycle_stage='active', name='spotify_predictions', tags={}>"
      ]
     },
     "execution_count": 1,
     "metadata": {},
     "output_type": "execute_result"
    }
   ],
   "source": [
    "import mlflow\n",
    "\n",
    "mlflow.set_tracking_uri('sqlite:///mlflow.db')\n",
    "mlflow.set_experiment('spotify_predictions')"
   ]
  },
  {
   "cell_type": "code",
   "execution_count": 2,
   "id": "5e68ee02",
   "metadata": {},
   "outputs": [],
   "source": [
    "import pandas as pd \n",
    "from sklearn.preprocessing import LabelEncoder\n",
    "from sklearn.preprocessing import StandardScaler\n",
    "from sklearn.model_selection import train_test_split"
   ]
  },
  {
   "cell_type": "code",
   "execution_count": 3,
   "id": "1dc499ee",
   "metadata": {},
   "outputs": [],
   "source": [
    "def load_data(filename):\n",
    "    \n",
    "    return pd.read_csv(filename)"
   ]
  },
  {
   "cell_type": "code",
   "execution_count": 4,
   "id": "ac067e38",
   "metadata": {},
   "outputs": [],
   "source": [
    "def encode_genre(df):\n",
    "    label_encoder = LabelEncoder()\n",
    "    label_encoder.fit(df['genre'])\n",
    "    df['genre_label'] = label_encoder.fit_transform(df['genre'])\n",
    "    \n",
    "    return df, label_encoder"
   ]
  },
  {
   "cell_type": "code",
   "execution_count": 5,
   "id": "e025b4b8",
   "metadata": {},
   "outputs": [],
   "source": [
    "def get_data_from_year(df:pd.DataFrame, year=None):\n",
    "    #function to get data from a certain year\n",
    "    if year is not None:\n",
    "        return df[df['year']==year]\n",
    "    return df"
   ]
  },
  {
   "cell_type": "code",
   "execution_count": 6,
   "id": "a4cef47f",
   "metadata": {},
   "outputs": [],
   "source": [
    "def get_features(df:pd.DataFrame, features = ['genre_label', 'danceability', 'loudness', 'speechiness', 'tempo']):\n",
    "    \n",
    "    return df[features]"
   ]
  },
  {
   "cell_type": "code",
   "execution_count": 7,
   "id": "2ecd9af9",
   "metadata": {},
   "outputs": [],
   "source": [
    "def create_features(df:pd.DataFrame):\n",
    "    #drop frames with the popularity score of 0\n",
    "    df = df[df['popularity'] !=0]\n",
    "    #create the duration in mins\n",
    "    df['duration'] = df['duration_ms'].values /1000 / 60\n",
    "    #encode the genre\n",
    "    df, label_encoder = encode_genre(df)\n",
    "    return df, label_encoder"
   ]
  },
  {
   "cell_type": "code",
   "execution_count": 8,
   "id": "e4de0abc",
   "metadata": {},
   "outputs": [],
   "source": [
    "def create_score(df:pd.DataFrame, thresh = 50):\n",
    "    score = []\n",
    "    for v in df['popularity']:\n",
    "        if v >=thresh:\n",
    "            score.append('popular')\n",
    "        else:\n",
    "            score.append('low')\n",
    "    df['score'] = score\n",
    "    return df"
   ]
  },
  {
   "cell_type": "code",
   "execution_count": 9,
   "id": "29404b72",
   "metadata": {},
   "outputs": [],
   "source": [
    "def create_dataset(filename:str, target = 'score'):\n",
    "    df = load_data(filename)\n",
    "    df, label_encoder  = create_features(df)\n",
    "    df = create_score(df)\n",
    "    X = get_features(df)\n",
    "    y = df[target]\n",
    "    return X,y,label_encoder"
   ]
  },
  {
   "cell_type": "code",
   "execution_count": 10,
   "id": "4f000f18",
   "metadata": {},
   "outputs": [
    {
     "name": "stderr",
     "output_type": "stream",
     "text": [
      "/var/folders/s8/tqf9wz192kn1c457rshvhg440000gn/T/ipykernel_36177/40094983.py:5: SettingWithCopyWarning: \n",
      "A value is trying to be set on a copy of a slice from a DataFrame.\n",
      "Try using .loc[row_indexer,col_indexer] = value instead\n",
      "\n",
      "See the caveats in the documentation: https://pandas.pydata.org/pandas-docs/stable/user_guide/indexing.html#returning-a-view-versus-a-copy\n",
      "  df['duration'] = df['duration_ms'].values /1000 / 60\n",
      "/var/folders/s8/tqf9wz192kn1c457rshvhg440000gn/T/ipykernel_36177/3345717615.py:4: SettingWithCopyWarning: \n",
      "A value is trying to be set on a copy of a slice from a DataFrame.\n",
      "Try using .loc[row_indexer,col_indexer] = value instead\n",
      "\n",
      "See the caveats in the documentation: https://pandas.pydata.org/pandas-docs/stable/user_guide/indexing.html#returning-a-view-versus-a-copy\n",
      "  df['genre_label'] = label_encoder.fit_transform(df['genre'])\n"
     ]
    }
   ],
   "source": [
    "X,y,label_encoder =create_dataset('data/spotify_data.csv')\n",
    "scaler = StandardScaler().fit(X)\n",
    "X_scaled = scaler.fit_transform(X)\n",
    "\n",
    "X_train, X_test, y_train, y_test = train_test_split(X_scaled, y)"
   ]
  },
  {
   "cell_type": "code",
   "execution_count": 11,
   "id": "0712800c",
   "metadata": {},
   "outputs": [
    {
     "data": {
      "text/plain": [
       "(751029, 250344)"
      ]
     },
     "execution_count": 11,
     "metadata": {},
     "output_type": "execute_result"
    }
   ],
   "source": [
    "len(X_train), len(X_test)"
   ]
  },
  {
   "cell_type": "code",
   "execution_count": 12,
   "id": "c94e2324",
   "metadata": {},
   "outputs": [],
   "source": [
    "from sklearn.ensemble import RandomForestClassifier\n",
    "from sklearn.metrics import f1_score, precision_score, recall_score"
   ]
  },
  {
   "cell_type": "code",
   "execution_count": 13,
   "id": "9b918776",
   "metadata": {},
   "outputs": [
    {
     "name": "stderr",
     "output_type": "stream",
     "text": [
      "2024/07/09 15:38:12 WARNING mlflow.utils.autologging_utils: You are using an unsupported version of sklearn. If you encounter errors during autologging, try upgrading / downgrading sklearn to a supported version, or try upgrading MLflow.\n",
      "2024/07/09 15:38:13 WARNING mlflow.sklearn: Failed to log training dataset information to MLflow Tracking. Reason: 'Series' object has no attribute 'flatten'\n",
      "2024/07/09 15:39:25 WARNING mlflow.utils.autologging_utils: MLflow autologging encountered a warning: \"/Users/davidgillespie/opt/anaconda3/envs/data/lib/python3.10/site-packages/_distutils_hack/__init__.py:26: UserWarning: Setuptools is replacing distutils.\"\n"
     ]
    }
   ],
   "source": [
    "with mlflow.start_run(run_name='Random Forest') as run:\n",
    "    mlflow.log_param('training data', 'data/spotify_data.csv')\n",
    "    \n",
    "    mlflow.sklearn.autolog()\n",
    "    rf = RandomForestClassifier(n_jobs = 8, n_estimators = 100)\n",
    "    rf.fit(X_train, y_train)\n",
    "    y_pred = rf.predict(X_test)\n",
    "    \n",
    "\n",
    "    mlflow.log_metric('f1_score_low_class', f1_score(y_test, y_pred, pos_label='low'))\n",
    "    mlflow.log_metric('precision_low_class', precision_score(y_test, y_pred, pos_label='low'))\n",
    "    mlflow.log_metric('recall_low_class', recall_score(y_test, y_pred, pos_label='low'))\n",
    "                      \n",
    "    mlflow.log_metric('f1_score_popular_class', f1_score(y_test, y_pred, pos_label='popular'))\n",
    "    mlflow.log_metric('precision_popular_class', precision_score(y_test, y_pred, pos_label='popular'))\n",
    "    mlflow.log_metric('recall_popular_class', recall_score(y_test, y_pred, pos_label='popular'))\n",
    "                                     "
   ]
  },
  {
   "cell_type": "code",
   "execution_count": null,
   "id": "4e75401f",
   "metadata": {},
   "outputs": [],
   "source": []
  }
 ],
 "metadata": {
  "kernelspec": {
   "display_name": "Python 3 (ipykernel)",
   "language": "python",
   "name": "python3"
  },
  "language_info": {
   "codemirror_mode": {
    "name": "ipython",
    "version": 3
   },
   "file_extension": ".py",
   "mimetype": "text/x-python",
   "name": "python",
   "nbconvert_exporter": "python",
   "pygments_lexer": "ipython3",
   "version": "3.10.14"
  }
 },
 "nbformat": 4,
 "nbformat_minor": 5
}
